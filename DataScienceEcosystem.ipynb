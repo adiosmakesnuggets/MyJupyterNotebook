{
 "cells": [
  {
   "cell_type": "markdown",
   "id": "f8d2fa16-4ad8-4dcb-bb89-35b96164c397",
   "metadata": {},
   "source": [
    "# Data Science Tools and Ecosystem"
   ]
  },
  {
   "cell_type": "markdown",
   "id": "22374c05-6f1f-4163-9f1e-bd57dcfb24f2",
   "metadata": {},
   "source": [
    "In this notebook, Data Science Tools and Ecosystem are summarized."
   ]
  },
  {
   "cell_type": "markdown",
   "id": "f10eceb9-a6ae-4ec2-803d-9da1dcbc1d48",
   "metadata": {},
   "source": [
    "Here are some of the most commonly used Data Science languages:\n",
    "1. Python\n",
    "2. R\n",
    "3. SQL\n",
    "4. C++"
   ]
  },
  {
   "cell_type": "markdown",
   "id": "3de4aac0-5622-407c-9baf-ccebba416e17",
   "metadata": {},
   "source": [
    "<b> Objectives: </b>\n",
    "- Listed 4 commonly used Data Science languages\n",
    "- Listed 4 commonly used Data Science libraries\n",
    "- Performed an example of an arithmetic expression\n",
    "- Converted 200 minutes to hours"
   ]
  },
  {
   "cell_type": "markdown",
   "id": "0b660785-2768-4455-92ad-30645dca338a",
   "metadata": {
    "tags": []
   },
   "source": [
    "Here are some of the most commonly used Data Science languages:\n",
    "1. matplotlib\n",
    "2. NumPy\n",
    "3. ggplot\n",
    "4. Pandas"
   ]
  },
  {
   "cell_type": "markdown",
   "id": "9e39437d-8dfb-4e8f-9e61-b48b668b3009",
   "metadata": {},
   "source": [
    "| Data Science Tools |\n",
    "|-----|\n",
    "|RStudio | \n",
    "|Anaconda|\n",
    "|Apache Spark|\n"
   ]
  },
  {
   "cell_type": "markdown",
   "id": "595e6064-3db1-42a0-b2ee-c054bfc6ad84",
   "metadata": {},
   "source": [
    "### Below are some examples of Python arithmetic expressions:"
   ]
  },
  {
   "cell_type": "code",
   "execution_count": 2,
   "id": "45b8add4-7797-421c-b681-4a7631cf8143",
   "metadata": {
    "tags": []
   },
   "outputs": [
    {
     "data": {
      "text/plain": [
       "17"
      ]
     },
     "execution_count": 2,
     "metadata": {},
     "output_type": "execute_result"
    }
   ],
   "source": [
    "# This is a simple arithmetic expression to multiply then add integers.\n",
    "(3*4)+5"
   ]
  },
  {
   "cell_type": "code",
   "execution_count": 6,
   "id": "dc19e882-d679-4245-854d-1c2cc53c3f2b",
   "metadata": {
    "tags": []
   },
   "outputs": [
    {
     "name": "stdout",
     "output_type": "stream",
     "text": [
      "3 hours and 20 minutes.\n"
     ]
    }
   ],
   "source": [
    "# Converting 200 minutes to hours by dividing by 60.\n",
    "print(f\"{200/60:.0f} hours and {200%60} minutes.\")"
   ]
  },
  {
   "cell_type": "markdown",
   "id": "7eddc3f5-56d8-4353-9e25-3bec9f742306",
   "metadata": {},
   "source": [
    "## Author\n",
    "Nader"
   ]
  },
  {
   "cell_type": "code",
   "execution_count": null,
   "id": "16bdbc64-b171-41dc-9294-78dd148ead2f",
   "metadata": {},
   "outputs": [],
   "source": []
  }
 ],
 "metadata": {
  "kernelspec": {
   "display_name": "Python 3 (ipykernel)",
   "language": "python",
   "name": "python3"
  },
  "language_info": {
   "codemirror_mode": {
    "name": "ipython",
    "version": 3
   },
   "file_extension": ".py",
   "mimetype": "text/x-python",
   "name": "python",
   "nbconvert_exporter": "python",
   "pygments_lexer": "ipython3",
   "version": "3.11.5"
  }
 },
 "nbformat": 4,
 "nbformat_minor": 5
}
